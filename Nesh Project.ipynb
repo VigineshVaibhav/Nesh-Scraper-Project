{
 "cells": [
  {
   "cell_type": "markdown",
   "metadata": {},
   "source": [
    "# Welcome To The Nesh Project Jupyter Notebook!"
   ]
  },
  {
   "cell_type": "markdown",
   "metadata": {},
   "source": [
    "This notebook will be used as the interface for the project demo. It uses functions defined in helper_functions.py to produce the required insights. \n",
    "\n",
    "Created by Viginesh Vaibhav."
   ]
  },
  {
   "cell_type": "markdown",
   "metadata": {},
   "source": [
    "## What does this Notebook do?"
   ]
  },
  {
   "cell_type": "markdown",
   "metadata": {},
   "source": [
    "Given a company's stock ticker, this notebook can produce some insights, such as:\n",
    "1. Latest Stock Price and its trend\n",
    "2. Some relevant financial figures about the company\n",
    "3. A brief overview of the earning calls transcript\n",
    "4. News Articles published about the company (with a brief summary of each)\n",
    "\n"
   ]
  },
  {
   "cell_type": "markdown",
   "metadata": {},
   "source": [
    "## Getting Started\n",
    "\n",
    "To get started, write the name of the company ticker whose information you'd like in the 'query' variable in the cell below and run the cell. Your options of queries are: OXY, EOG, APC, APA, COP and PXD. \n",
    "\n",
    "**Note**: If you'd like to query a different company, please input the company's ticker into the 'query' variable and run the cells again."
   ]
  },
  {
   "cell_type": "code",
   "execution_count": null,
   "metadata": {
    "scrolled": true
   },
   "outputs": [],
   "source": [
    "query='PXD' # Enter your input within the quotes here\n",
    "\n",
    "from helper_functions import get_company,about_company, get_soup, get_earnings_call_link, get_company_data, get_stock_trend, get_news_articles, earnings_call_report, summarize_news\n",
    "get_company(query)"
   ]
  },
  {
   "cell_type": "markdown",
   "metadata": {},
   "source": [
    "**For each of the cells below:** Simply run each cell to produce the described insights."
   ]
  },
  {
   "cell_type": "markdown",
   "metadata": {},
   "source": [
    "### About The Company"
   ]
  },
  {
   "cell_type": "code",
   "execution_count": null,
   "metadata": {},
   "outputs": [],
   "source": [
    "about_company()"
   ]
  },
  {
   "cell_type": "markdown",
   "metadata": {},
   "source": [
    "### Facts and Figures"
   ]
  },
  {
   "cell_type": "code",
   "execution_count": null,
   "metadata": {},
   "outputs": [],
   "source": [
    "get_company_data()"
   ]
  },
  {
   "cell_type": "markdown",
   "metadata": {},
   "source": [
    "### Interactive Stock Trends Graph"
   ]
  },
  {
   "cell_type": "code",
   "execution_count": null,
   "metadata": {
    "scrolled": false
   },
   "outputs": [],
   "source": [
    "get_stock_trend()"
   ]
  },
  {
   "cell_type": "markdown",
   "metadata": {},
   "source": [
    "### News About The Company"
   ]
  },
  {
   "cell_type": "markdown",
   "metadata": {},
   "source": [
    "Input the number of news articles you'd like to view in the variable 'no_of_news_articles' below. By default, 5 news articles will be shown at a time. Links to the full articles will be displayed below their summaries."
   ]
  },
  {
   "cell_type": "code",
   "execution_count": null,
   "metadata": {},
   "outputs": [],
   "source": [
    "no_of_news_articles = 5\n",
    "get_news_articles(no_of_news_articles)"
   ]
  },
  {
   "cell_type": "markdown",
   "metadata": {},
   "source": [
    "### Earnings Call Transcript Overview"
   ]
  },
  {
   "cell_type": "code",
   "execution_count": null,
   "metadata": {},
   "outputs": [],
   "source": [
    "earnings_call_report()"
   ]
  },
  {
   "cell_type": "markdown",
   "metadata": {},
   "source": [
    "### Sources"
   ]
  },
  {
   "cell_type": "markdown",
   "metadata": {},
   "source": [
    "All the relevant data points were scraped from The Motley Fool. The interactive stock price graph is an iFrame which was also obtained from The Motley Fool. Other sources of information (such as Bloomberg and Seeking Alpha) refused requests from the web scraper, making it impossible to scrape the data off their websites."
   ]
  }
 ],
 "metadata": {
  "kernelspec": {
   "display_name": "Python 3",
   "language": "python",
   "name": "python3"
  },
  "language_info": {
   "codemirror_mode": {
    "name": "ipython",
    "version": 3
   },
   "file_extension": ".py",
   "mimetype": "text/x-python",
   "name": "python",
   "nbconvert_exporter": "python",
   "pygments_lexer": "ipython3",
   "version": "3.7.1"
  }
 },
 "nbformat": 4,
 "nbformat_minor": 2
}
