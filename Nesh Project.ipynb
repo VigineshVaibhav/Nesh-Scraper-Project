{
 "cells": [
  {
   "cell_type": "markdown",
   "metadata": {},
   "source": [
    "# Welcome To The Nesh Project Jupyter Notebook!"
   ]
  },
  {
   "cell_type": "markdown",
   "metadata": {},
   "source": [
    "This notebook will be used as the interface for the project demo. It uses functions defined in helper_functions.py to produce the required insights. \n",
    "\n",
    "Created by Viginesh Vaibhav."
   ]
  },
  {
   "cell_type": "markdown",
   "metadata": {},
   "source": [
    "## What does this Notebook do?"
   ]
  },
  {
   "cell_type": "markdown",
   "metadata": {},
   "source": [
    "Given a company's stock ticker, this notebook can produce some insights, such as:\n",
    "1. Latest Stock Price and its trend\n",
    "2. Some relevant financial figures about the company\n",
    "3. A brief overview of the earning calls transcript\n",
    "4. News Articles published about the company (with a brief summary of each)\n",
    "\n"
   ]
  },
  {
   "cell_type": "markdown",
   "metadata": {},
   "source": [
    "## Getting Started\n",
    "\n",
    "To get started, write the name of the company ticker whose information you'd like in the 'query' variable in the cell below and run the cell. Your options of queries are: OXY, EOG, APC, APA, COP and PXD. \n",
    "\n",
    "**Note**: If you'd like to query a different company, please input the company's ticker into the 'query' variable and run the cells again."
   ]
  },
  {
   "cell_type": "code",
   "execution_count": 1,
   "metadata": {
    "scrolled": true
   },
   "outputs": [],
   "source": [
    "query='PXD' # Enter your input within the quotes here\n",
    "\n",
    "from helper_functions import get_company,about_company, get_soup, get_earnings_call_link, get_company_data, get_stock_trend, get_news_articles, earnings_call_report, summarize_news\n",
    "get_company(query)"
   ]
  },
  {
   "cell_type": "markdown",
   "metadata": {},
   "source": [
    "**For each of the cells below:** Simply run each cell to produce the described insights."
   ]
  },
  {
   "cell_type": "markdown",
   "metadata": {},
   "source": [
    "### About The Company"
   ]
  },
  {
   "cell_type": "code",
   "execution_count": null,
   "metadata": {},
   "outputs": [],
   "source": [
    "about_company()"
   ]
  },
  {
   "cell_type": "markdown",
   "metadata": {},
   "source": [
    "### Facts and Figures"
   ]
  },
  {
   "cell_type": "code",
   "execution_count": null,
   "metadata": {},
   "outputs": [],
   "source": [
    "get_company_data()"
   ]
  },
  {
   "cell_type": "markdown",
   "metadata": {},
   "source": [
    "### Interactive Stock Trends Graph"
   ]
  },
  {
   "cell_type": "code",
   "execution_count": null,
   "metadata": {
    "scrolled": false
   },
   "outputs": [],
   "source": [
    "get_stock_trend()"
   ]
  },
  {
   "cell_type": "markdown",
   "metadata": {},
   "source": [
    "### News About The Company"
   ]
  },
  {
   "cell_type": "markdown",
   "metadata": {},
   "source": [
    "Input the number of news articles you'd like to view in the variable 'no_of_news_articles' below. By default, 5 news articles will be shown at a time. Links to the full articles will be displayed below their summaries."
   ]
  },
  {
   "cell_type": "code",
   "execution_count": 2,
   "metadata": {},
   "outputs": [
    {
     "name": "stdout",
     "output_type": "stream",
     "text": [
      "-----\n",
      "Article Number  1 \n",
      "\n",
      "\n",
      "Article Title: 3 Excellent Numbers From Pioneer Natural Resources' Q4 Report\n",
      "Article Sub-Title: The Permian Basin-focused oil stock shared some impressive numbers with its investors.\n",
      "\n",
      "\t\t\t\t----------ARTICLE SUMMARY----------\n",
      "\n",
      "\n",
      "38% year-over-year increase in cash flow\n",
      "Pioneer's strong oil output during the fourth quarter helped the company generate a gusher of cash flow. Those contracts helped net Pioneer an incremental $173 million in cash during the quarter and $458 million for the full year. It was a solid end to the year, as its Permian production came in toward the top end of its guidance range. Meanwhile, the company unveiled this week that it's giving investors another raise by increasing its dividend 100%. The company started forking over more money last February when it boosted its dividend 300%, while also authorizing a small $100 million share-repurchase plan. Because of that, it has been able to return more cash to shareholders in the past year. Unfortunately, most investors focused on that earnings miss, which likely means they overlooked three excellent numbers that the company revealed. With that boost, the company has now raised its payout by a jaw-dropping 700% in the past year.\n",
      "Link: https://www.fool.com/investing/2019/02/15/3-excellent-numbers-from-pioneer-natural-resources.aspx\n",
      "-----\n",
      "Article Number  2 \n",
      "\n",
      "\n",
      "Article Title: Pioneer Natural Resources Company (PXD) Q4 2018 Earnings Conference Call Transcript\n",
      "Article Sub-Title: PXD earnings call for the period ending December 31 2018.\n",
      "\n",
      "\t\t\t\t----------ARTICLE SUMMARY----------\n",
      "\n",
      "\n",
      "I've already mentioned that 2019 is going to be a strong capital efficiency year. That point in time, you got a significant bump to your available cash flow, and therefore, a push toward free cash flow generation. And so it's going to give us a tremendous advantage going forward. So I think all those things combined together are going to lead to a greater capital discipline in 2019. So we're trying to balance all those things in order to get the most capital efficient program we can each year. Inventory of low risk wells, high return wells, that give us runway or a pathway to long-term organic growth. One of the things, we are trying to achieve of course is moving the Company to where we're generating free cash flow. And we want to push the Company toward the free cash flow generative model, of course, and at the same time, be growing.\n",
      "Link: https://www.fool.com/earnings/call-transcripts/2019/02/14/pioneer-natural-resources-company-pxd-q4-2018-earn.aspx\n",
      "-----\n",
      "Article Number  3 \n",
      "\n",
      "\n",
      "Article Title: This Oil Stock Is Rewarding Its Investors With a $2 Billion Payday\n",
      "Article Sub-Title: Oil companies continue to give more money to their shareholders.\n",
      "\n",
      "\t\t\t\t----------ARTICLE SUMMARY----------\n",
      "\n",
      "\n",
      "The company aims to buy back another $9 billion in stock in the coming years, or about $15 billion overall. While its $4 billion authorization isn't the highest amount, it is enough money to retire a remarkable 20% of Devon's outstanding stock. The latest one comes from Pioneer Natural Resources (NYSE:PXD), which is planning to repurchase $2 billion of its stock. Finally, the company anticipates that it will generate free cash flow in 2019 even after funding a growth-focused capital program. Meanwhile, that buyback only intended to offset the dilution associated with the company's annual employee stock awards. Given the current share price, it could retire about 8% of its outstanding shares. That makes it a compelling oil stock to consider for the long term. Devon Energy (NYSE:DVN) is currently undertaking one of the biggest buyback programs in the sector.\n",
      "Link: https://www.fool.com/investing/2018/12/14/this-oil-stock-is-rewarding-its-investors-with-a-2.aspx\n",
      "-----\n",
      "Article Number  4 \n",
      "\n",
      "\n",
      "Article Title: This Energy Stock's Bold Claim Shows It's Ready to Dominate Its Industry\n",
      "Article Sub-Title: U.S. Silica is backing up the bona-fides of its business model by guaranteeing its customers on-time deliveries, or U.S. Silica will foot the bill.\n",
      "\n",
      "\t\t\t\t----------ARTICLE SUMMARY----------\n",
      "\n",
      "\n",
      "The challenge for frack sand suppliers is getting that sand to a well. Sand served hot and fresh, or your money back\n",
      "Supplying sand isn't that hard of a job. This business was virtually nonexistent a decade ago, but now it supplies more than 100 million tons of sand annually. Unfortunately, the frack sand business is an incredibly tough one for generating long-term returns. Long-term supply contracts coupled with logistics services will help protect revenue and margins. With a better business model and a dirt-cheap stock price, investors should take a hard look at U.S. Silica's stock. We're also happy to announce an expansion of our commercial offering for delivered sand to include performance-based pricing. One thing Shinn also pointed to was signing more customers to long-term supply contracts.\n",
      "Link: https://www.fool.com/investing/2018/11/30/this-energy-stocks-bold-claim-shows-its-ready-to-d.aspx\n",
      "-----\n",
      "Article Number  5 \n",
      "\n",
      "\n",
      "Article Title: These Are the Biggest Oil Producers in the United States\n",
      "Article Sub-Title: America has become the top oil-producing country in the world, due in part to the production of these giant oil companies.\n",
      "\n",
      "\t\t\t\t----------ARTICLE SUMMARY----------\n",
      "\n",
      "\n",
      "That high-octane growth rate could eventually enable the company to surpass its big oil rivals and become the country's top oil producer. With a vast supply of oil still underground, America's oil production appears poised to continue rising in the coming years. Many investors tend to classify any company related to the oil industry as an oil stock. As a result, the U.S. oil industry appears poised to cash in as oil prices continue their recovery in the coming years. Marathon Oil: A four-pronged shale attack\n",
      "Marathon Oil has undergone a dramatic transformation over the past several years. The third leg of Chevron's American oil platform is the midcontinent region, which includes oil and gas fields in Colorado, New Mexico, and Texas. Upstream companies are those that drill wells that produce oil and make most of their money selling that oil. In Saudi Arabia, for example, Saudi Aramco is the nation's sole oil company, making it the largest oil-producing company in the world.\n",
      "Link: https://www.fool.com/investing/2018/11/24/the-biggest-oil-producers-in-the-united-states.aspx\n",
      "-----\n"
     ]
    }
   ],
   "source": [
    "no_of_news_articles = 5\n",
    "get_news_articles(no_of_news_articles)"
   ]
  },
  {
   "cell_type": "markdown",
   "metadata": {},
   "source": [
    "### Earnings Call Transcript Overview"
   ]
  },
  {
   "cell_type": "code",
   "execution_count": 4,
   "metadata": {},
   "outputs": [
    {
     "name": "stdout",
     "output_type": "stream",
     "text": [
      "Date of earnings call: Feb. 14, 2019\n",
      "\n",
      " Duration: 61 minutes\n",
      "\n",
      "Call participants:\n",
      "Neal H. Shah -- Vice President, Investor Relations\n",
      "Timothy L. Dove -- President and Chief Executive Officer\n",
      "J.D. Hall -- Executive Vice President, Permian Operations\n",
      "Richard P. Dealy -- Executive Vice President and Chief Financial Officer\n",
      "Doug Leggate -- Bank of America Merrill Lynch -- Analyst\n",
      "Arun Jayaram -- JPMorgan -- Analyst\n",
      "Bob Morris -- Citi -- Analyst\n",
      "Charles Meade -- Johnson Rice -- Analyst\n",
      "Brian Singer -- Goldman Sachs -- Analyst\n",
      "John freeman --  -- Analyst\n",
      "Jeanine Wai -- Barclays -- Analyst\n",
      "Ryan Todd -- Simmons Energy -- Analyst\n",
      "Matthew Portillo -- Tudor, Pickering, Holt & Co. -- Analyst\n",
      "\n"
     ]
    }
   ],
   "source": [
    "earnings_call_report()"
   ]
  },
  {
   "cell_type": "markdown",
   "metadata": {},
   "source": [
    "### Sources"
   ]
  },
  {
   "cell_type": "markdown",
   "metadata": {},
   "source": [
    "All the relevant data points were scraped from The Motley Fool. The interactive stock price graph is an iFrame which was also obtained from The Motley Fool. Other sources of information (such as Bloomberg and Seeking Alpha) refused requests from the web scraper, making it impossible to scrape the data off their websites."
   ]
  }
 ],
 "metadata": {
  "kernelspec": {
   "display_name": "Python 3",
   "language": "python",
   "name": "python3"
  },
  "language_info": {
   "codemirror_mode": {
    "name": "ipython",
    "version": 3
   },
   "file_extension": ".py",
   "mimetype": "text/x-python",
   "name": "python",
   "nbconvert_exporter": "python",
   "pygments_lexer": "ipython3",
   "version": "3.7.1"
  }
 },
 "nbformat": 4,
 "nbformat_minor": 2
}
